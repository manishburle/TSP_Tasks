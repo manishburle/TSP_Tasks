{
 "cells": [
  {
   "cell_type": "markdown",
   "id": "5eb95f32-4b91-4080-904e-d9c9ef9c82eb",
   "metadata": {},
   "source": [
    "# Task 1 : Optical Character Detection\n",
    "## Implement an character detector which extracts printed or handwritten text from an image\n",
    "By Manish Kumar\n",
    "### Importing libraries required"
   ]
  },
  {
   "cell_type": "code",
   "execution_count": 33,
   "id": "afc90640-6c77-4724-b3e4-29ac4f381f4a",
   "metadata": {},
   "outputs": [],
   "source": [
    "import cv2\n",
    "import pytesseract\n",
    "pytesseract.pytesseract.tesseract_cmd = r'C:\\Program Files\\Tesseract-OCR\\tesseract.exe'"
   ]
  },
  {
   "cell_type": "markdown",
   "id": "99eec7d8-9b7a-4a1c-93e8-425b55089710",
   "metadata": {},
   "source": [
    "### Read image and preprocess"
   ]
  },
  {
   "cell_type": "code",
   "execution_count": 34,
   "id": "2c36753a-946c-44dd-8c15-6eb925d0c306",
   "metadata": {},
   "outputs": [],
   "source": [
    "\n",
    "# gray scale\n",
    "def gray(img):\n",
    "    \n",
    "    img = cv2.cvtColor(img, cv2.COLOR_BGR2GRAY)\n",
    "    cv2.imwrite(r\"img_gray.png\",img)\n",
    "    return img\n",
    "\n",
    "# blur\n",
    "def blur(img) :\n",
    "    img_blur = cv2.GaussianBlur(img,(5,5),0)\n",
    "    cv2.imwrite(r\"img_blur.png\",img)    \n",
    "    return img_blur\n",
    "\n",
    "# threshold\n",
    "def threshold(img):\n",
    "    #pixels with value below 100 are turned black (0) and those with higher value are turned white (255)\n",
    "    img = cv2.threshold(img, 100, 255, cv2.THRESH_OTSU | cv2.THRESH_BINARY)[1]    \n",
    "    cv2.imwrite(r\"img_threshold.png\",img)\n",
    "    return img\n",
    "im = cv2.imread('noisy.jpg')\n",
    "im_gray = gray(im)\n",
    "im_blur = blur(im_gray)\n",
    "im_thresh = threshold(im_blur)\n",
    "    #Show input image\n",
    "cv2.imshow('Input image',im)\n",
    "cv2.waitKey(0)\n",
    "cv2.destroyAllWindows()"
   ]
  },
  {
   "cell_type": "markdown",
   "id": "db9ba64a-1b8f-400e-b85e-495c2158a65f",
   "metadata": {},
   "source": [
    " ### Finding contours\n",
    " We can use OpenCV contours detection to detect contours to extract chunks of data."
   ]
  },
  {
   "cell_type": "code",
   "execution_count": 35,
   "id": "251f758e-cb88-4cef-be79-8c9d78c476dd",
   "metadata": {},
   "outputs": [],
   "source": [
    "\n",
    "contours, _ = cv2.findContours(im_thresh, cv2.RETR_EXTERNAL, cv2.CHAIN_APPROX_NONE) "
   ]
  },
  {
   "cell_type": "markdown",
   "id": "1d4f4df2-f6d8-4ece-8ea2-1ae39e8d0b2e",
   "metadata": {},
   "source": [
    "### Final printed text detection"
   ]
  },
  {
   "cell_type": "code",
   "execution_count": 36,
   "id": "4aec542e-b09a-4cb4-8596-f7858d4f036f",
   "metadata": {},
   "outputs": [
    {
     "name": "stdout",
     "output_type": "stream",
     "text": [
      " \n",
      "\n",
      " \n",
      "\n",
      "Noisyimage\n",
      "to test\n",
      "Tesseract OCR\n",
      "\n",
      " \n",
      "\n",
      " \n",
      "\f",
      "\n"
     ]
    }
   ],
   "source": [
    "\n",
    "for cnt in contours: \n",
    "    x, y, w, h = cv2.boundingRect(cnt) \n",
    "    rect = cv2.rectangle(im, (x, y), (x + w, y + h), (0, 255, 255), 2) # Drawing a rectangle on copied image \n",
    "        \n",
    "    cv2.imshow('cnt',rect)\n",
    "    cv2.waitKey(0)\n",
    "    cv2.destroyAllWindows()\n",
    "    cropped = im[y:y + h, x:x + w] # Cropping the text block for giving input to OCR\n",
    "\n",
    "    config = ('-l eng --oem 1 --psm 3')\n",
    "    text = pytesseract.image_to_string(cropped, config=config) # Apply OCR on the cropped image \n",
    "\n",
    "    print(text)"
   ]
  },
  {
   "cell_type": "markdown",
   "id": "999d595d-1d0e-4715-a5f8-c8adef468bc8",
   "metadata": {},
   "source": [
    "Hence, we can find the text written on the paper. There will exist few errors."
   ]
  },
  {
   "cell_type": "code",
   "execution_count": null,
   "id": "fee5bd7e-1774-4ec3-85ba-ecf777f6364f",
   "metadata": {},
   "outputs": [],
   "source": []
  }
 ],
 "metadata": {
  "kernelspec": {
   "display_name": "Python 3",
   "language": "python",
   "name": "python3"
  },
  "language_info": {
   "codemirror_mode": {
    "name": "ipython",
    "version": 3
   },
   "file_extension": ".py",
   "mimetype": "text/x-python",
   "name": "python",
   "nbconvert_exporter": "python",
   "pygments_lexer": "ipython3",
   "version": "3.8.5"
  }
 },
 "nbformat": 4,
 "nbformat_minor": 5
}
