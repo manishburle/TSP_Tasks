{
 "cells": [
  {
   "cell_type": "markdown",
   "id": "2bfb5cfd-13a7-4e84-ae1a-63a1901ddf83",
   "metadata": {},
   "source": [
    "# Task 1 : Prediction using Supervised ML\n",
    "## Predict the percentage of an student based on the no. of study hours."
   ]
  },
  {
   "cell_type": "markdown",
   "id": "0e49668c-e168-4173-8fd7-b5f19b0b406a",
   "metadata": {},
   "source": [
    "### Importing libraries required"
   ]
  },
  {
   "cell_type": "code",
   "execution_count": 3,
   "id": "a85bb6dc-c11a-4065-9fbc-e9b4ee78f54c",
   "metadata": {},
   "outputs": [],
   "source": [
    "from sklearn.linear_model import LinearRegression\n",
    "import pandas as pd\n",
    "import matplotlib.pyplot as plt\n",
    "from sklearn.model_selection import train_test_split"
   ]
  },
  {
   "cell_type": "markdown",
   "id": "1977ae2c-3267-4cfa-9714-f7bf53d33c5f",
   "metadata": {},
   "source": [
    "### Reading the dataset"
   ]
  },
  {
   "cell_type": "code",
   "execution_count": 4,
   "id": "4801c770-a22d-4704-bab2-08eefbcb8b49",
   "metadata": {},
   "outputs": [
    {
     "name": "stdout",
     "output_type": "stream",
     "text": [
      "Data imported successfully\n",
      "   Hours  Scores\n",
      "0    2.5      21\n",
      "1    5.1      47\n",
      "2    3.2      27\n",
      "3    8.5      75\n",
      "4    3.5      30\n"
     ]
    }
   ],
   "source": [
    "url = \"http://bit.ly/w-data\"\n",
    "data = pd.read_csv(url)\n",
    "print(\"Data imported successfully\")\n",
    "print(data.head())"
   ]
  },
  {
   "cell_type": "markdown",
   "id": "0c583a28-e07b-433b-8b5d-d5007cb2d296",
   "metadata": {},
   "source": [
    "### Plotting the data to find any relationship"
   ]
  },
  {
   "cell_type": "code",
   "execution_count": 5,
   "id": "2dc2bf67-613a-4dd8-82c5-06fd944bff07",
   "metadata": {},
   "outputs": [
    {
     "data": {
      "image/png": "[encoded data removed]",
      "text/plain": [
       "<Figure size 432x288 with 1 Axes>"
      ]
     },
     "metadata": {
      "needs_background": "light"
     },
     "output_type": "display_data"
    }
   ],
   "source": [
    "data.plot(x='Hours', y='Scores', style='x')  \n",
    "plt.title('Hours vs Percentage')  \n",
    "plt.xlabel('Hours Studied')  \n",
    "plt.ylabel('Percentage Score')  \n",
    "plt.show()"
   ]
  },
  {
   "cell_type": "markdown",
   "id": "caff58a2-f7f5-431c-b787-b2f6ba532ec5",
   "metadata": {},
   "source": [
    "From the graph, it can be inferred that there exists a linear relation in the data between number of hours and perentage.\n",
    "## Dividing our data into test and train sets\n",
    "Let's divide the data into \"attributes\" (inputs) and \"labels\" (outputs)."
   ]
  },
  {
   "cell_type": "code",
   "execution_count": 6,
   "id": "38014be1-b6e5-431c-967c-ba8b9ebac09f",
   "metadata": {},
   "outputs": [],
   "source": [
    "x=data.iloc[:,:1].values\n",
    "y=data.iloc[:,1].values"
   ]
  },
  {
   "cell_type": "markdown",
   "id": "8749cf34-daa1-4ce6-9c65-ec662c93b4cf",
   "metadata": {},
   "source": [
    "Now, using the test_train_split() method, the given data can be split into test and training datasets."
   ]
  },
  {
   "cell_type": "code",
   "execution_count": 29,
   "id": "d16e0e42-6b6a-485d-9b08-af2e63633efc",
   "metadata": {},
   "outputs": [],
   "source": [
    "X_train, X_test, y_train, y_test = train_test_split(x, y, test_size=0.2, random_state=8)"
   ]
  },
  {
   "cell_type": "markdown",
   "id": "e7c067cf-4116-4302-877b-a3332139fd88",
   "metadata": {},
   "source": [
    "## Training our model"
   ]
  },
  {
   "cell_type": "code",
   "execution_count": 30,
   "id": "91eb8edb-aafc-4592-aabd-5f76942a72df",
   "metadata": {},
   "outputs": [
    {
     "name": "stdout",
     "output_type": "stream",
     "text": [
      "Training complete.\n"
     ]
    }
   ],
   "source": [
    "regr = LinearRegression()\n",
    "regr.fit(X_train, y_train)\n",
    "print(\"Training complete.\")"
   ]
  },
  {
   "cell_type": "markdown",
   "id": "444345e0-4768-4b02-a5a4-e120e2b46e8d",
   "metadata": {},
   "source": [
    "Now, let us plot the regression line and our test data."
   ]
  },
  {
   "cell_type": "code",
   "execution_count": 31,
   "id": "3f4bd9a4-6a40-4e5e-b131-c9b10d10019b",
   "metadata": {},
   "outputs": [
    {
     "data": {
      "image/png": "[encoded data removed]",
      "text/plain": [
       "<Figure size 432x288 with 1 Axes>"
      ]
     },
     "metadata": {
      "needs_background": "light"
     },
     "output_type": "display_data"
    }
   ],
   "source": [
    "line = regr.coef_*x+regr.intercept_\n",
    "\n",
    "\n",
    "plt.scatter(x, y)\n",
    "plt.plot(x, line);\n",
    "plt.show()"
   ]
  },
  {
   "cell_type": "markdown",
   "id": "ec07c353-9fd5-4593-a92a-f671a0a60581",
   "metadata": {},
   "source": [
    "## Making Predictions\n",
    "Using our model, we can predict student scores for the test dataset"
   ]
  },
  {
   "cell_type": "code",
   "execution_count": 32,
   "id": "203303a5-7c1f-490b-911b-1c5d0faf7b63",
   "metadata": {},
   "outputs": [
    {
     "data": {
      "text/html": [
       "<div>\n",
       "<style scoped>\n",
       "    .dataframe tbody tr th:only-of-type {\n",
       "        vertical-align: middle;\n",
       "    }\n",
       "\n",
       "    .dataframe tbody tr th {\n",
       "        vertical-align: top;\n",
       "    }\n",
       "\n",
       "    .dataframe thead th {\n",
       "        text-align: right;\n",
       "    }\n",
       "</style>\n",
       "<table border=\"1\" class=\"dataframe\">\n",
       "  <thead>\n",
       "    <tr style=\"text-align: right;\">\n",
       "      <th></th>\n",
       "      <th>Actual</th>\n",
       "      <th>Predicted</th>\n",
       "    </tr>\n",
       "  </thead>\n",
       "  <tbody>\n",
       "    <tr>\n",
       "      <th>0</th>\n",
       "      <td>67</td>\n",
       "      <td>62.409213</td>\n",
       "    </tr>\n",
       "    <tr>\n",
       "      <th>1</th>\n",
       "      <td>17</td>\n",
       "      <td>14.531745</td>\n",
       "    </tr>\n",
       "    <tr>\n",
       "      <th>2</th>\n",
       "      <td>30</td>\n",
       "      <td>37.512930</td>\n",
       "    </tr>\n",
       "    <tr>\n",
       "      <th>3</th>\n",
       "      <td>35</td>\n",
       "      <td>40.385578</td>\n",
       "    </tr>\n",
       "    <tr>\n",
       "      <th>4</th>\n",
       "      <td>21</td>\n",
       "      <td>27.937436</td>\n",
       "    </tr>\n",
       "  </tbody>\n",
       "</table>\n",
       "</div>"
      ],
      "text/plain": [
       "   Actual  Predicted\n",
       "0      67  62.409213\n",
       "1      17  14.531745\n",
       "2      30  37.512930\n",
       "3      35  40.385578\n",
       "4      21  27.937436"
      ]
     },
     "execution_count": 32,
     "metadata": {},
     "output_type": "execute_result"
    }
   ],
   "source": [
    "y_pred = regr.predict(X_test)\n",
    "df = pd.DataFrame({'Actual': y_test, 'Predicted': y_pred})\n",
    "df"
   ]
  },
  {
   "cell_type": "markdown",
   "id": "cdc93674-15d8-40a1-92d3-08a309160ebf",
   "metadata": {},
   "source": [
    "The predicted score if a student studies for 9.25 hrs/ day will be"
   ]
  },
  {
   "cell_type": "code",
   "execution_count": 33,
   "id": "849852ad-12da-4434-b613-0dffea988235",
   "metadata": {},
   "outputs": [
    {
     "name": "stdout",
     "output_type": "stream",
     "text": [
      "No of Hours = 9.25\n",
      "Predicted Score = 92.57201837282052\n"
     ]
    }
   ],
   "source": [
    "pred = regr.predict([[9.25]])\n",
    "print(\"No of Hours = 9.25\")\n",
    "print(\"Predicted Score = {}\".format(pred[0]))"
   ]
  },
  {
   "cell_type": "markdown",
   "id": "f9fde643-6662-4062-965e-dd1f60f527a1",
   "metadata": {},
   "source": [
    "## Evaluate the model\n",
    "To evaluate our model let us use Mean Absolute error using the metrics module from sklearn"
   ]
  },
  {
   "cell_type": "code",
   "execution_count": 34,
   "id": "a67fd7ce-467a-40ca-a537-026859c76beb",
   "metadata": {},
   "outputs": [
    {
     "name": "stdout",
     "output_type": "stream",
     "text": [
      "Mean Absolute Error: 5.378997042008353\n"
     ]
    }
   ],
   "source": [
    "from sklearn import metrics  \n",
    "print('Mean Absolute Error:', metrics.mean_absolute_error(y_test, y_pred))"
   ]
  },
  {
   "cell_type": "code",
   "execution_count": null,
   "id": "498b9c50-c60a-486c-895f-51edb60f588d",
   "metadata": {},
   "outputs": [],
   "source": []
  }
 ],
 "metadata": {
  "kernelspec": {
   "display_name": "Python 3",
   "language": "python",
   "name": "python3"
  },
  "language_info": {
   "codemirror_mode": {
    "name": "ipython",
    "version": 3
   },
   "file_extension": ".py",
   "mimetype": "text/x-python",
   "name": "python",
   "nbconvert_exporter": "python",
   "pygments_lexer": "ipython3",
   "version": "3.8.5"
  }
 },
 "nbformat": 4,
 "nbformat_minor": 5
}
